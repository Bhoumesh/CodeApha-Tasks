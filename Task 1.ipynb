{
 "cells": [
  {
   "cell_type": "code",
   "execution_count": 1,
   "id": "cee8f1da",
   "metadata": {},
   "outputs": [
    {
     "name": "stdout",
     "output_type": "stream",
     "text": [
      "✅ Scraping Completed. Dataset saved as books_dataset.csv\n",
      "                                   Title    Price Availability Rating\n",
      "0                   A Light in the Attic  Â£51.77     In stock  Three\n",
      "1                     Tipping the Velvet  Â£53.74     In stock    One\n",
      "2                             Soumission  Â£50.10     In stock    One\n",
      "3                          Sharp Objects  Â£47.82     In stock   Four\n",
      "4  Sapiens: A Brief History of Humankind  Â£54.23     In stock   Five\n"
     ]
    }
   ],
   "source": [
    "import requests\n",
    "from bs4 import BeautifulSoup\n",
    "import pandas as pd\n",
    "\n",
    "# Target website\n",
    "url = \"https://books.toscrape.com/catalogue/page-1.html\"\n",
    "\n",
    "# Empty list to store scraped data\n",
    "books_data = []\n",
    "\n",
    "# Loop through first 5 pages (you can increase if needed)\n",
    "for page in range(1, 6):\n",
    "    response = requests.get(f\"https://books.toscrape.com/catalogue/page-{page}.html\")\n",
    "    soup = BeautifulSoup(response.text, \"html.parser\")\n",
    "\n",
    "    # Extract all book containers\n",
    "    books = soup.find_all(\"article\", class_=\"product_pod\")\n",
    "\n",
    "    for book in books:\n",
    "        title = book.h3.a[\"title\"]\n",
    "        price = book.find(\"p\", class_=\"price_color\").text\n",
    "        availability = book.find(\"p\", class_=\"instock availability\").text.strip()\n",
    "        rating = book.p[\"class\"][1]  # e.g., \"One\", \"Two\", \"Five\"\n",
    "\n",
    "        books_data.append([title, price, availability, rating])\n",
    "\n",
    "# Create DataFrame\n",
    "df = pd.DataFrame(books_data, columns=[\"Title\", \"Price\", \"Availability\", \"Rating\"])\n",
    "\n",
    "# Save dataset\n",
    "df.to_csv(\"books_dataset.csv\", index=False)\n",
    "\n",
    "print(\"✅ Scraping Completed. Dataset saved as books_dataset.csv\")\n",
    "print(df.head())\n"
   ]
  }
 ],
 "metadata": {
  "kernelspec": {
   "display_name": "base",
   "language": "python",
   "name": "python3"
  },
  "language_info": {
   "codemirror_mode": {
    "name": "ipython",
    "version": 3
   },
   "file_extension": ".py",
   "mimetype": "text/x-python",
   "name": "python",
   "nbconvert_exporter": "python",
   "pygments_lexer": "ipython3",
   "version": "3.12.7"
  }
 },
 "nbformat": 4,
 "nbformat_minor": 5
}
